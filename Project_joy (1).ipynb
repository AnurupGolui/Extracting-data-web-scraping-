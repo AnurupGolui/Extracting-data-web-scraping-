{
  "nbformat": 4,
  "nbformat_minor": 0,
  "metadata": {
    "colab": {
      "provenance": []
    },
    "kernelspec": {
      "name": "python3",
      "display_name": "Python 3"
    },
    "language_info": {
      "name": "python"
    }
  },
  "cells": [
    {
      "cell_type": "code",
      "execution_count": 41,
      "metadata": {
        "id": "fORsOUXjopgD"
      },
      "outputs": [],
      "source": [
        "import requests\n",
        "from bs4 import BeautifulSoup as bs\n",
        "import pandas as pd"
      ]
    },
    {
      "cell_type": "code",
      "source": [
        "url = \"https://www.speedtest.net/global-index\""
      ],
      "metadata": {
        "id": "knduzONxotSa"
      },
      "execution_count": 42,
      "outputs": []
    },
    {
      "cell_type": "code",
      "source": [
        "r = requests.get(url)"
      ],
      "metadata": {
        "id": "3tn2iuA8oxqd"
      },
      "execution_count": 43,
      "outputs": []
    },
    {
      "cell_type": "code",
      "source": [
        "soup = bs(r.text,\"html.parser\")"
      ],
      "metadata": {
        "id": "SCmt3-H2o1dI"
      },
      "execution_count": 44,
      "outputs": []
    },
    {
      "cell_type": "code",
      "source": [
        "mt= soup.find(\"div\", id=\"column-mobileMedian\", class_= \"pure-u-1 pure-u-lg-1-2 results-column mobileMedian-results\")\n",
        "ct= soup.find(\"div\", id = \"column-fixedMedian\",  class_=\"pure-u-1 pure-u-lg-1-2 results-column fixedMedian-results\")"
      ],
      "metadata": {
        "id": "qjMh2lA0o5sw"
      },
      "execution_count": 45,
      "outputs": []
    },
    {
      "cell_type": "code",
      "source": [
        "m_table = mt.find(\"table\", class_= \"list-results\")\n",
        "c_table = ct.find(\"table\", class_= \"list-results\")"
      ],
      "metadata": {
        "id": "PwntPEqMqnqz"
      },
      "execution_count": 46,
      "outputs": []
    },
    {
      "cell_type": "code",
      "source": [
        "headers = m_table.find_all(\"th\")\n"
      ],
      "metadata": {
        "id": "C_iDDGHVrHl6"
      },
      "execution_count": 47,
      "outputs": []
    },
    {
      "cell_type": "code",
      "source": [
        "titles = []\n",
        "for i in headers:\n",
        "    title = i.text\n",
        "    titles.append(title)\n",
        "\n",
        "titles.insert(1,\"rank\")"
      ],
      "metadata": {
        "id": "QEOQG0U9rVVo"
      },
      "execution_count": 48,
      "outputs": []
    },
    {
      "cell_type": "code",
      "source": [
        "print(titles)"
      ],
      "metadata": {
        "colab": {
          "base_uri": "https://localhost:8080/"
        },
        "id": "ypdZfH00rbw1",
        "outputId": "9df02641-f91e-4e21-9941-4d528867ddf8"
      },
      "execution_count": 49,
      "outputs": [
        {
          "output_type": "stream",
          "name": "stdout",
          "text": [
            "['#', 'rank', 'Country', 'Mbps']\n"
          ]
        }
      ]
    },
    {
      "cell_type": "code",
      "source": [
        "df = pd.DataFrame(columns = titles)\n",
        "df1 = pd.DataFrame(columns = titles)"
      ],
      "metadata": {
        "id": "KI25Fvl4reTT"
      },
      "execution_count": 50,
      "outputs": []
    },
    {
      "cell_type": "code",
      "source": [
        "rows = m_table.find_all(\"tr\")\n",
        "rows1 = c_table.find_all(\"tr\")"
      ],
      "metadata": {
        "id": "LwxBQQBtrhjk"
      },
      "execution_count": 51,
      "outputs": []
    },
    {
      "cell_type": "code",
      "source": [
        "for i in rows[1:]:\n",
        "    data = i.find_all(\"td\")\n",
        "    row_data = [td.text.strip() for td in data]\n",
        "    if len(row_data) == len(df.columns):\n",
        "        df.loc[len(df)] = row_data"
      ],
      "metadata": {
        "id": "YI9RgcVnrl7D"
      },
      "execution_count": 52,
      "outputs": []
    },
    {
      "cell_type": "code",
      "source": [
        "for i in rows1[1:]:\n",
        "    data1 = i.find_all(\"td\")\n",
        "    row_data1 = [td1.text.strip() for td1 in data1]\n",
        "    if len(row_data1) == len(df1.columns):\n",
        "        df1.loc[len(df1)] = row_data1"
      ],
      "metadata": {
        "id": "m2Y3rI1itQHd"
      },
      "execution_count": 53,
      "outputs": []
    },
    {
      "cell_type": "code",
      "source": [
        "df.set_index(\"#\", inplace= True)"
      ],
      "metadata": {
        "id": "K1n5hxRorpc2"
      },
      "execution_count": 54,
      "outputs": []
    },
    {
      "cell_type": "code",
      "source": [
        "df1.set_index(\"#\", inplace= True)"
      ],
      "metadata": {
        "id": "Nnr7JyNOuBiK"
      },
      "execution_count": 55,
      "outputs": []
    },
    {
      "cell_type": "code",
      "source": [
        "df.to_csv(\"Mobile_Table1.csv\")\n",
        "df1.to_csv(\"Country_Table2.csv\")"
      ],
      "metadata": {
        "id": "B5rG6jryu4GI"
      },
      "execution_count": 57,
      "outputs": []
    },
    {
      "cell_type": "code",
      "source": [],
      "metadata": {
        "id": "dr0wsaSHVxIQ"
      },
      "execution_count": null,
      "outputs": []
    },
    {
      "cell_type": "code",
      "source": [],
      "metadata": {
        "id": "d5blP-TmVxKh"
      },
      "execution_count": null,
      "outputs": []
    },
    {
      "cell_type": "code",
      "source": [],
      "metadata": {
        "id": "oktPDCd4VxN4"
      },
      "execution_count": null,
      "outputs": []
    },
    {
      "cell_type": "code",
      "source": [],
      "metadata": {
        "id": "Ct1PJbfSzGoc"
      },
      "execution_count": null,
      "outputs": []
    }
  ]
}